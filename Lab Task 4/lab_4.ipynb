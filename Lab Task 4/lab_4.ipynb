{
  "nbformat": 4,
  "nbformat_minor": 0,
  "metadata": {
    "colab": {
      "provenance": []
    },
    "kernelspec": {
      "name": "python3",
      "display_name": "Python 3"
    },
    "language_info": {
      "name": "python"
    }
  },
  "cells": [
    {
      "cell_type": "markdown",
      "source": [
        "setup"
      ],
      "metadata": {
        "id": "9xGloIZfAZB6"
      }
    },
    {
      "cell_type": "code",
      "source": [
        "!pip install pycryptodome"
      ],
      "metadata": {
        "id": "MHtROH26B7ky",
        "colab": {
          "base_uri": "https://localhost:8080/"
        },
        "outputId": "7562ea62-4975-4d2d-d2b7-68aab19b85a8"
      },
      "execution_count": 9,
      "outputs": [
        {
          "output_type": "stream",
          "name": "stdout",
          "text": [
            "Requirement already satisfied: pycryptodome in /usr/local/lib/python3.10/dist-packages (3.20.0)\n"
          ]
        }
      ]
    },
    {
      "cell_type": "code",
      "source": [
        "from Crypto.Cipher import AES, PKCS1_OAEP\n",
        "from Crypto.PublicKey import RSA\n",
        "from Crypto.Signature import pkcs1_15\n",
        "from Crypto.Hash import SHA256\n",
        "from Crypto.Random import get_random_bytes\n",
        "import time\n",
        "import os"
      ],
      "metadata": {
        "id": "yRtknYpgAdvJ"
      },
      "execution_count": 10,
      "outputs": []
    },
    {
      "cell_type": "markdown",
      "source": [
        "key generation and storage"
      ],
      "metadata": {
        "id": "zPxQfIA_Ah_X"
      }
    },
    {
      "cell_type": "code",
      "source": [
        "def generate_aes_key(key_length):\n",
        "    key = get_random_bytes(key_length // 8)\n",
        "    with open(f'aes_key_{key_length}.key', 'wb') as f:\n",
        "        f.write(key)\n",
        "    return key\n",
        "\n",
        "def generate_rsa_keys():\n",
        "    key = RSA.generate(2048)\n",
        "    private_key = key.export_key()\n",
        "    public_key = key.publickey().export_key()\n",
        "    with open('private.pem', 'wb') as f:\n",
        "        f.write(private_key)\n",
        "    with open('public.pem', 'wb') as f:\n",
        "        f.write(public_key)\n",
        "    return key\n",
        "\n",
        "def load_aes_key(key_length):\n",
        "    with open(f'aes_key_{key_length}.key', 'rb') as f:\n",
        "        key = f.read()\n",
        "    return key\n",
        "\n",
        "def load_rsa_keys():\n",
        "    with open('private.pem', 'rb') as f:\n",
        "        private_key = RSA.import_key(f.read())\n",
        "    with open('public.pem', 'rb') as f:\n",
        "        public_key = RSA.import_key(f.read())\n",
        "    return private_key, public_key"
      ],
      "metadata": {
        "id": "K-WQAUIaAkMQ"
      },
      "execution_count": 11,
      "outputs": []
    },
    {
      "cell_type": "markdown",
      "source": [
        "AES Encryption/Decryption"
      ],
      "metadata": {
        "id": "iq4FmHl5AlkS"
      }
    },
    {
      "cell_type": "code",
      "source": [
        "def aes_encrypt(data, key, mode):\n",
        "    cipher = AES.new(key, mode)\n",
        "    ciphertext = cipher.encrypt(data)\n",
        "    with open('aes_encrypted.bin', 'wb') as f:\n",
        "        f.write(cipher.iv + ciphertext)\n",
        "    return cipher.iv + ciphertext\n",
        "\n",
        "def aes_decrypt(ciphertext, key, mode):\n",
        "    iv = ciphertext[:16]\n",
        "    cipher = AES.new(key, mode, iv=iv)\n",
        "    plaintext = cipher.decrypt(ciphertext[16:])\n",
        "    return plaintext\n",
        "\n",
        "def pad(data):\n",
        "    while len(data) % 16 != 0:\n",
        "        data += b' '\n",
        "    return data"
      ],
      "metadata": {
        "id": "xma-d7PEApoI"
      },
      "execution_count": 12,
      "outputs": []
    },
    {
      "cell_type": "markdown",
      "source": [
        "RSA Encryption/Decryption and Signing/Verification"
      ],
      "metadata": {
        "id": "yx_sFuJkAweJ"
      }
    },
    {
      "cell_type": "code",
      "source": [
        "def rsa_encrypt(data, public_key):\n",
        "    cipher = PKCS1_OAEP.new(public_key)\n",
        "    ciphertext = cipher.encrypt(data)\n",
        "    with open('rsa_encrypted.bin', 'wb') as f:\n",
        "        f.write(ciphertext)\n",
        "    return ciphertext\n",
        "\n",
        "def rsa_decrypt(ciphertext, private_key):\n",
        "    cipher = PKCS1_OAEP.new(private_key)\n",
        "    plaintext = cipher.decrypt(ciphertext)\n",
        "    return plaintext\n",
        "\n",
        "def rsa_sign(data, private_key):\n",
        "    h = SHA256.new(data)\n",
        "    signature = pkcs1_15.new(private_key).sign(h)\n",
        "    with open('rsa_signature.sig', 'wb') as f:\n",
        "        f.write(signature)\n",
        "    return signature\n",
        "\n",
        "def rsa_verify(data, signature, public_key):\n",
        "    h = SHA256.new(data)\n",
        "    try:\n",
        "        pkcs1_15.new(public_key).verify(h, signature)\n",
        "        print(\"Signature is valid.\")\n",
        "    except (ValueError, TypeError):\n",
        "        print(\"Signature is invalid.\")"
      ],
      "metadata": {
        "id": "X5y2dyXpAyEn"
      },
      "execution_count": 13,
      "outputs": []
    },
    {
      "cell_type": "markdown",
      "source": [
        "SHA-256 Hashing"
      ],
      "metadata": {
        "id": "45XoxGjMA1os"
      }
    },
    {
      "cell_type": "code",
      "source": [
        "def sha256_hash(data):\n",
        "    h = SHA256.new(data)\n",
        "    print(h.hexdigest())"
      ],
      "metadata": {
        "id": "mMVlZn9GA33g"
      },
      "execution_count": 14,
      "outputs": []
    },
    {
      "cell_type": "markdown",
      "source": [
        "Timing Functionality"
      ],
      "metadata": {
        "id": "671XtNThA7vt"
      }
    },
    {
      "cell_type": "code",
      "source": [
        "def measure_time(func, *args):\n",
        "    start_time = time.time()\n",
        "    result = func(*args)\n",
        "    end_time = time.time()\n",
        "    print(f\"Time taken: {end_time - start_time} seconds\")\n",
        "    return result"
      ],
      "metadata": {
        "id": "TEWCB05RA-3_"
      },
      "execution_count": 15,
      "outputs": []
    },
    {
      "cell_type": "markdown",
      "source": [
        "Command Line Interface"
      ],
      "metadata": {
        "id": "XZOFZPd-BCpw"
      }
    },
    {
      "cell_type": "code",
      "source": [
        "def main():\n",
        "    while True:\n",
        "        print(\"Choose an option:\")\n",
        "        print(\"1. AES Encryption\")\n",
        "        print(\"2. AES Decryption\")\n",
        "        print(\"3. RSA Encryption\")\n",
        "        print(\"4. RSA Decryption\")\n",
        "        print(\"5. RSA Signature\")\n",
        "        print(\"6. RSA Verification\")\n",
        "        print(\"7. SHA-256 Hashing\")\n",
        "        print(\"8. Exit\")\n",
        "\n",
        "        choice = int(input())\n",
        "\n",
        "        if choice == 1:\n",
        "            key_length = int(input(\"Enter AES key length (128 or 256): \"))\n",
        "            mode = AES.MODE_ECB if input(\"Enter mode (ECB or CFB): \") == 'ECB' else AES.MODE_CFB\n",
        "            key = load_aes_key(key_length)\n",
        "            data = pad(input(\"Enter data to encrypt: \").encode())\n",
        "            measure_time(aes_encrypt, data, key, mode)\n",
        "\n",
        "        elif choice == 2:\n",
        "            key_length = int(input(\"Enter AES key length (128 or 256): \"))\n",
        "            mode = AES.MODE_ECB if input(\"Enter mode (ECB or CFB): \") == 'ECB' else AES.MODE_CFB\n",
        "            key = load_aes_key(key_length)\n",
        "            with open('aes_encrypted.bin', 'rb') as f:\n",
        "                ciphertext = f.read()\n",
        "            plaintext = measure_time(aes_decrypt, ciphertext, key, mode)\n",
        "            print(\"Decrypted data:\", plaintext.decode())\n",
        "\n",
        "        elif choice == 3:\n",
        "            private_key, public_key = load_rsa_keys()\n",
        "            data = input(\"Enter data to encrypt: \").encode()\n",
        "            measure_time(rsa_encrypt, data, public_key)\n",
        "\n",
        "        elif choice == 4:\n",
        "            private_key, public_key = load_rsa_keys()\n",
        "            with open('rsa_encrypted.bin', 'rb') as f:\n",
        "                ciphertext = f.read()\n",
        "            plaintext = measure_time(rsa_decrypt, ciphertext, private_key)\n",
        "            print(\"Decrypted data:\", plaintext.decode())\n",
        "\n",
        "        elif choice == 5:\n",
        "            private_key, public_key = load_rsa_keys()\n",
        "            data = input(\"Enter data to sign: \").encode()\n",
        "            measure_time(rsa_sign, data, private_key)\n",
        "\n",
        "        elif choice == 6:\n",
        "            private_key, public_key = load_rsa_keys()\n",
        "            data = input(\"Enter data to verify: \").encode()\n",
        "            with open('rsa_signature.sig', 'rb') as f:\n",
        "                signature = f.read()\n",
        "            measure_time(rsa_verify, data, signature, public_key)\n",
        "\n",
        "        elif choice == 7:\n",
        "            data = input(\"Enter data to hash: \").encode()\n",
        "            sha256_hash(data)\n",
        "\n",
        "        elif choice == 8:\n",
        "            break\n",
        "        else:\n",
        "            print(\"Invalid choice\")\n",
        "\n",
        "if __name__ == \"__main__\":\n",
        "    generate_aes_key(128)\n",
        "    generate_aes_key(256)\n",
        "    generate_rsa_keys()\n",
        "    main()"
      ],
      "metadata": {
        "colab": {
          "base_uri": "https://localhost:8080/"
        },
        "id": "UzMl0-FhBEgf",
        "outputId": "40286918-621c-40c3-e1ed-f1e2256d7da5"
      },
      "execution_count": 16,
      "outputs": [
        {
          "name": "stdout",
          "output_type": "stream",
          "text": [
            "Choose an option:\n",
            "1. AES Encryption\n",
            "2. AES Decryption\n",
            "3. RSA Encryption\n",
            "4. RSA Decryption\n",
            "5. RSA Signature\n",
            "6. RSA Verification\n",
            "7. SHA-256 Hashing\n",
            "8. Exit\n",
            "3\n",
            "Enter data to encrypt: i am alvi\n",
            "Time taken: 0.0027115345001220703 seconds\n",
            "Choose an option:\n",
            "1. AES Encryption\n",
            "2. AES Decryption\n",
            "3. RSA Encryption\n",
            "4. RSA Decryption\n",
            "5. RSA Signature\n",
            "6. RSA Verification\n",
            "7. SHA-256 Hashing\n",
            "8. Exit\n",
            "5\n",
            "Enter data to sign: alvi\n",
            "Time taken: 0.004503488540649414 seconds\n",
            "Choose an option:\n",
            "1. AES Encryption\n",
            "2. AES Decryption\n",
            "3. RSA Encryption\n",
            "4. RSA Decryption\n",
            "5. RSA Signature\n",
            "6. RSA Verification\n",
            "7. SHA-256 Hashing\n",
            "8. Exit\n",
            "7\n",
            "Enter data to hash: doraemon\n",
            "44de3ed43a38bbf73a9e4d5ea79f0b06ab29f5d003984a335cd3f79781c04e51\n",
            "Choose an option:\n",
            "1. AES Encryption\n",
            "2. AES Decryption\n",
            "3. RSA Encryption\n",
            "4. RSA Decryption\n",
            "5. RSA Signature\n",
            "6. RSA Verification\n",
            "7. SHA-256 Hashing\n",
            "8. Exit\n",
            "8\n"
          ]
        }
      ]
    }
  ]
}